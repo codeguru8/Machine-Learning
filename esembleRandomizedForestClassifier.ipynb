{
  "nbformat": 4,
  "nbformat_minor": 0,
  "metadata": {
    "colab": {
      "provenance": [],
      "authorship_tag": "ABX9TyNTVVZuxiabvMhIOgUjr7km",
      "include_colab_link": true
    },
    "kernelspec": {
      "name": "python3",
      "display_name": "Python 3"
    },
    "language_info": {
      "name": "python"
    }
  },
  "cells": [
    {
      "cell_type": "markdown",
      "metadata": {
        "id": "view-in-github",
        "colab_type": "text"
      },
      "source": [
        "<a href=\"https://colab.research.google.com/github/codeguru8/Machine-learning/blob/main/esembleRandomizedForestClassifier.ipynb\" target=\"_parent\"><img src=\"https://colab.research.google.com/assets/colab-badge.svg\" alt=\"Open In Colab\"/></a>"
      ]
    },
    {
      "cell_type": "code",
      "source": [
        "from sklearn.model_selection import cross_val_score\n",
        "from sklearn.datasets import make_blobs\n",
        "from sklearn.ensemble import RandomForestClassifier\n",
        "from sklearn.ensemble import ExtraTreesClassifier\n",
        "from sklearn.tree import DecisionTreeClassifier\n",
        "\n",
        "X, y = make_blobs(n_samples=10000, n_features=10, centers=100, random_state=0)\n",
        "\n",
        "clf = DecisionTreeClassifier(max_depth=None, min_samples_split=2, random_state=0)\n",
        "scores = cross_val_score(clf, X, y, cv=5)\n",
        "decision_tree_mean_score = scores.mean()\n",
        "\n",
        "clf = RandomForestClassifier(n_estimators=10, max_depth=None, min_samples_split=2, random_state=0)\n",
        "scores = cross_val_score(clf, X, y, cv=5)\n",
        "random_forest_mean_score = scores.mean()\n",
        "\n",
        "clf = ExtraTreesClassifier(n_estimators=10, max_depth=None, min_samples_split=2, random_state=0)\n",
        "scores = cross_val_score(clf, X, y, cv=5)\n",
        "extra_trees_mean_score = scores.mean()\n",
        "\n",
        "print(\"Decision Tree Mean Score:\", decision_tree_mean_score)\n",
        "print(\"Random Forest Mean Score:\", random_forest_mean_score)\n",
        "print(\"Extra Trees Mean Score:\", extra_trees_mean_score)\n",
        "print(\"All mean scores > 0.999:\", decision_tree_mean_score > 0.999 and random_forest_mean_score > 0.999 and extra_trees_mean_score > 0.999)\n"
      ],
      "metadata": {
        "colab": {
          "base_uri": "https://localhost:8080/"
        },
        "id": "PvQI0YE1yb5K",
        "outputId": "37db2d18-f6d9-4e65-b9ab-1b5e263af169"
      },
      "execution_count": null,
      "outputs": [
        {
          "output_type": "stream",
          "name": "stdout",
          "text": [
            "Decision Tree Mean Score: 0.9823000000000001\n",
            "Random Forest Mean Score: 0.9997\n",
            "Extra Trees Mean Score: 1.0\n",
            "All mean scores > 0.999: False\n"
          ]
        }
      ]
    }
  ]
}